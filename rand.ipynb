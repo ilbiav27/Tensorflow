{
 "cells": [
  {
   "cell_type": "code",
   "execution_count": 4,
   "metadata": {},
   "outputs": [],
   "source": [
    "import os\n",
    "import random"
   ]
  },
  {
   "cell_type": "code",
   "execution_count": 9,
   "metadata": {
    "scrolled": false
   },
   "outputs": [
    {
     "name": "stdout",
     "output_type": "stream",
     "text": [
      "197\n"
     ]
    }
   ],
   "source": [
    "f = open(r'\\\\cat\\share\\정한슬\\cat_data\\data\\evaluating.txt',mode='w')\n",
    "data_loc = r'\\\\cat\\share\\정한슬\\cat_data\\data\\eval'\n",
    "filenames = os.listdir(data_loc)\n",
    "i = 0\n",
    "for filename in filenames:\n",
    "    file_loc = os.path.join(data_loc,filename)\n",
    "    file = os.listdir(file_loc)\n",
    "    for image in file:\n",
    "        f.write(os.path.join(data_loc,filename,str(image+' '+ str(filename[-2:])+'\\n')))\n",
    "        i += 1\n",
    "print(i)"
   ]
  },
  {
   "cell_type": "code",
   "execution_count": 76,
   "metadata": {},
   "outputs": [
    {
     "name": "stdout",
     "output_type": "stream",
     "text": [
      "\\\\cat\\share\\정한슬\\cat_data\\data\\train\\WomCloBot001-00\\016_Front (2).jpg 00\n",
      "\\\\cat\\share\\정한슬\\cat_data\\data\\train\\WomCloJac001-07\\Untitled-35.jpg 07\n",
      "\\\\cat\\share\\정한슬\\cat_data\\data\\train\\WomCloBot001-00\\Untitled-17.jpg 00\n",
      "\\\\cat\\share\\정한슬\\cat_data\\data\\train\\WomCloCot010-06\\Capture One 03015.jpg 06\n",
      "\\\\cat\\share\\정한슬\\cat_data\\data\\train\\WomCloTop005-19\\Untitled-9.jpg 19\n"
     ]
    }
   ],
   "source": [
    "f1 = open(r'\\\\cat\\share\\정한슬\\cat_data\\data\\training.txt',mode='r')\n",
    "for image in random.sample(f1.readlines(),5):\n",
    "    print(image[:-1])"
   ]
  },
  {
   "cell_type": "code",
   "execution_count": null,
   "metadata": {},
   "outputs": [],
   "source": []
  },
  {
   "cell_type": "code",
   "execution_count": null,
   "metadata": {},
   "outputs": [],
   "source": []
  }
 ],
 "metadata": {
  "kernelspec": {
   "display_name": "Python 3",
   "language": "python",
   "name": "python3"
  },
  "language_info": {
   "codemirror_mode": {
    "name": "ipython",
    "version": 3
   },
   "file_extension": ".py",
   "mimetype": "text/x-python",
   "name": "python",
   "nbconvert_exporter": "python",
   "pygments_lexer": "ipython3",
   "version": "3.6.5"
  }
 },
 "nbformat": 4,
 "nbformat_minor": 2
}
