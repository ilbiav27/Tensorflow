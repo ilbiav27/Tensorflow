{
 "cells": [
  {
   "cell_type": "code",
   "execution_count": 1,
   "metadata": {},
   "outputs": [
    {
     "name": "stderr",
     "output_type": "stream",
     "text": [
      "C:\\Users\\HSJung\\Anaconda3\\lib\\site-packages\\h5py\\__init__.py:36: FutureWarning: Conversion of the second argument of issubdtype from `float` to `np.floating` is deprecated. In future, it will be treated as `np.float64 == np.dtype(float).type`.\n",
      "  from ._conv import register_converters as _register_converters\n"
     ]
    }
   ],
   "source": [
    "import numpy as np\n",
    "import tensorflow as tf\n",
    "import matplotlib.pyplot as plt\n",
    "import os\n",
    "import random\n",
    "\n",
    "from datetime import datetime\n",
    "import math\n",
    "import cv2\n",
    "from PIL import Image\n",
    "\n",
    "import vgg16_v1"
   ]
  },
  {
   "cell_type": "code",
   "execution_count": 2,
   "metadata": {},
   "outputs": [],
   "source": [
    "batch_size = 4\n",
    "image_num = 724 #The number of image data\n",
    "eval_num = 196\n",
    "batch_num_t = math.ceil(image_num/batch_size)\n",
    "batch_num_e = math.ceil(eval_num/batch_size)\n",
    "\n",
    "epoch_num = 100\n",
    "classes_num = 21\n",
    "MOVING_AVERAGE_DECAY = 0.9999\n",
    "image_WH = 256\n",
    "\n",
    "loss_ = np.zeros(100)\n",
    "\n",
    "ckpt_loc = 'checkpoint'\n",
    "eval_loc = r'\\\\cat\\share\\정한슬\\cat_data\\data\\eval'\n",
    "data_loc = r'\\\\cat\\share\\정한슬\\cat_data\\data\\train'\n",
    "text = r'\\\\cat\\share\\정한슬\\cat_data\\data'"
   ]
  },
  {
   "cell_type": "code",
   "execution_count": 3,
   "metadata": {},
   "outputs": [],
   "source": [
    "if not os.path.isdir(ckpt_loc):\n",
    "    os.mkdir(ckpt_loc)"
   ]
  },
  {
   "cell_type": "code",
   "execution_count": 4,
   "metadata": {},
   "outputs": [
    {
     "name": "stdout",
     "output_type": "stream",
     "text": [
      "train image :724\n"
     ]
    }
   ],
   "source": [
    "#make training data vector\n",
    "with open(os.path.join(text,'training.txt'),'r') as f:\n",
    "    #suffle images for training\n",
    "    lines = random.sample(f.readlines(),image_num)\n",
    "image = np.ndarray([image_num,image_WH,image_WH,3])\n",
    "label = np.ndarray([image_num])\n",
    "\n",
    "i = 0\n",
    "for line in lines:\n",
    "    if i == image_num: break\n",
    "    #print(cv2.imread(line[:-4], CV_LOAD_IMAGE_COLOR))\n",
    "    label[i] = np.asanyarray(int(line[-3:-1])).reshape([1])\n",
    "    image[i] = np.asanyarray(Image.open(line[:-4])).reshape((image_WH,image_WH,3))\n",
    "    i += 1\n",
    "print(\"train image :\"+str(i))"
   ]
  },
  {
   "cell_type": "code",
   "execution_count": 5,
   "metadata": {},
   "outputs": [
    {
     "name": "stdout",
     "output_type": "stream",
     "text": [
      "eval image : 196\n"
     ]
    }
   ],
   "source": [
    "#make validation data vector\n",
    "with open(os.path.join(text,'evaluating.txt'),'r') as f:\n",
    "    lines = random.sample(f.readlines(),eval_num)\n",
    "    \n",
    "eval_image = np.ndarray([eval_num,image_WH,image_WH,3])\n",
    "eval_label = np.ndarray([eval_num])\n",
    "\n",
    "i = 0\n",
    "for line in lines:\n",
    "    if i == image_num: break\n",
    "    eval_label[i] = np.asanyarray(int(line[-3:-1])).reshape([1])\n",
    "    eval_image[i] = np.asanyarray(Image.open(line[:-4])).reshape((image_WH,image_WH,3))\n",
    "    i += 1\n",
    "print(\"eval image : \"+str(i))"
   ]
  },
  {
   "cell_type": "code",
   "execution_count": null,
   "metadata": {
    "scrolled": false
   },
   "outputs": [
    {
     "name": "stdout",
     "output_type": "stream",
     "text": [
      "program is started\n",
      "C:\\Users\\HSJung\\jupyterNotebook\\01_Wom_Classification\\vgg16\\vgg16.npy\n",
      "npy file loaded\n",
      "build model started\n",
      "build model finished: 12s\n",
      "2018-09-27 17:10:11.264331  Running starts!\n",
      "[ 2018-09-27 17:12:00.796970  1 epoch] loss : 19246.0511 train accuracy : 0.444751 validation accuracy : 0.535714\n",
      "[ 2018-09-27 17:13:53.123553  2 epoch] loss : 3354.0262 train accuracy : 0.780387 validation accuracy : 0.576531\n",
      "[ 2018-09-27 17:15:32.769561  3 epoch] loss : 2398.1233 train accuracy : 0.837017 validation accuracy : 0.637755\n",
      "[ 2018-09-27 17:17:12.261688  4 epoch] loss : 2054.2125 train accuracy : 0.886740 validation accuracy : 0.647959\n",
      "[ 2018-09-27 17:18:51.892890  5 epoch] loss : 1207.4231 train accuracy : 0.907459 validation accuracy : 0.668367\n",
      "[ 2018-09-27 17:20:32.398794  6 epoch] loss : 1182.8112 train accuracy : 0.915746 validation accuracy : 0.673469\n",
      "[ 2018-09-27 17:22:12.355544  7 epoch] loss : 576.4886 train accuracy : 0.953039 validation accuracy : 0.673469\n",
      "[ 2018-09-27 17:23:51.614931  8 epoch] loss : 930.1114 train accuracy : 0.951657 validation accuracy : 0.709184\n",
      "[ 2018-09-27 17:25:31.739441  9 epoch] loss : 778.0574 train accuracy : 0.954420 validation accuracy : 0.663265\n",
      "[ 2018-09-27 17:27:11.338482 10 epoch] loss : 452.3375 train accuracy : 0.961326 validation accuracy : 0.709184\n",
      "[ 2018-09-27 17:28:50.883573 11 epoch] loss : 928.3274 train accuracy : 0.936464 validation accuracy : 0.596939\n",
      "[ 2018-09-27 17:30:42.254474 12 epoch] loss : 1054.7492 train accuracy : 0.953039 validation accuracy : 0.693878\n",
      "[ 2018-09-27 17:32:21.465904 13 epoch] loss : 419.8226 train accuracy : 0.972376 validation accuracy : 0.683673\n",
      "[ 2018-09-27 17:34:00.684320 14 epoch] loss : 832.6118 train accuracy : 0.959945 validation accuracy : 0.688776\n",
      "[ 2018-09-27 17:35:40.261362 15 epoch] loss : 505.2188 train accuracy : 0.977901 validation accuracy : 0.704082\n",
      "[ 2018-09-27 17:37:19.879821 16 epoch] loss : 381.2065 train accuracy : 0.980663 validation accuracy : 0.704082\n",
      "[ 2018-09-27 17:38:59.307003 17 epoch] loss : 183.6250 train accuracy : 0.984807 validation accuracy : 0.663265\n",
      "[ 2018-09-27 17:40:38.665759 18 epoch] loss : 544.3151 train accuracy : 0.964088 validation accuracy : 0.698980\n",
      "[ 2018-09-27 17:42:18.311732 19 epoch] loss : 1205.4439 train accuracy : 0.957182 validation accuracy : 0.576531\n",
      "[ 2018-09-27 17:43:57.787890 20 epoch] loss : 1791.4270 train accuracy : 0.936464 validation accuracy : 0.632653\n",
      "[ 2018-09-27 17:45:37.434858 21 epoch] loss : 1329.2381 train accuracy : 0.962707 validation accuracy : 0.688776\n",
      "[ 2018-09-27 17:47:28.114400 22 epoch] loss : 1608.4857 train accuracy : 0.959945 validation accuracy : 0.693878\n",
      "[ 2018-09-27 17:49:07.809533 23 epoch] loss : 1579.9879 train accuracy : 0.940608 validation accuracy : 0.734694\n",
      "[ 2018-09-27 17:50:47.330631 24 epoch] loss : 704.8702 train accuracy : 0.958564 validation accuracy : 0.734694\n",
      "[ 2018-09-27 17:52:27.406525 25 epoch] loss : 290.0416 train accuracy : 0.983425 validation accuracy : 0.714286\n",
      "[ 2018-09-27 17:54:08.469886 26 epoch] loss : 170.1587 train accuracy : 0.984807 validation accuracy : 0.724490\n",
      "[ 2018-09-27 17:55:50.965754 27 epoch] loss : 379.7396 train accuracy : 0.986188 validation accuracy : 0.724490\n",
      "[ 2018-09-27 17:57:31.665970 28 epoch] loss : 180.1350 train accuracy : 0.993094 validation accuracy : 0.709184\n",
      "[ 2018-09-27 17:59:13.404959 29 epoch] loss : 434.3223 train accuracy : 0.993094 validation accuracy : 0.698980\n",
      "[ 2018-09-27 18:00:56.110664 30 epoch] loss : 97.5944 train accuracy : 0.994475 validation accuracy : 0.719388\n",
      "[ 2018-09-27 18:02:37.356830 31 epoch] loss : 254.9901 train accuracy : 0.986188 validation accuracy : 0.709184\n",
      "[ 2018-09-27 18:04:30.532401 32 epoch] loss : 381.3231 train accuracy : 0.980663 validation accuracy : 0.642857\n"
     ]
    }
   ],
   "source": [
    "with tf.Graph().as_default() as g:\n",
    "    with tf.Session(config=tf.ConfigProto(gpu_options=(tf.GPUOptions(per_process_gpu_memory_fraction=0.6)))) as sess:\n",
    "        '''\n",
    "        #Load meta graph\n",
    "        saver = tf.train.import_meta_graph(os.path.join(ckpt_loc,'TL-model-1280.meta'))\n",
    "        \n",
    "        #Load weights\n",
    "        saver.restore(sess, tf.train.latest_checkpoint(ckpt_loc))\n",
    "        #make graph\n",
    "        graph = tf.get_default_graph()\n",
    "        \n",
    "        # If you don't know name of variables, remove '''''' \n",
    "        \"\"\"\n",
    "        \n",
    "        for op in graph.get_operations():\n",
    "            print(op.name)\n",
    "        \"\"\"\n",
    "        \n",
    "        #Fix input and ouput\n",
    "        inputs = graph.get_tensor_by_name(\"images:0\")\n",
    "        labels = graph.get_tensor_by_name(\"labels:0\")\n",
    "        prob = graph.get_tensor_by_name(\"content_vgg/fc8/probability:0\")\n",
    "        \n",
    "        #For saving checkpoint\n",
    "        ckpt = tf.train.get_checkpoint_state(ckpt_loc)\n",
    "        '''\n",
    "        \n",
    "        #variables for input and ground truth\n",
    "        print('program is started')\n",
    "        images = tf.placeholder(\"float32\", [None, image_WH, image_WH, 3],name = 'images')\n",
    "        labels = tf.placeholder(\"int64\",[None], name = 'labels')\n",
    "\n",
    "        vgg = vgg16_v1.Vgg16()\n",
    " \n",
    "        with tf.name_scope(\"content_vgg\"):\n",
    "            vgg.build(images,labels)\n",
    "            sess.run(tf.global_variables_initializer())\n",
    "            \n",
    "            filter_img = tf.summary.FileWriter('filter',sess.graph)\n",
    "            saver = tf.train.Saver()\n",
    "            \n",
    "            start = datetime.now()\n",
    "            print(datetime.now(),' Running starts!')\n",
    "            \n",
    "            \n",
    "            for epoch in range(epoch_num):\n",
    "                img_count = 0\n",
    "                loss_sum = 0.0\n",
    "                acc_sum_t = 0.0 \n",
    "                acc_sum_e = 0.0\n",
    "                eval_count = 0\n",
    "                \n",
    "                for batch in range(batch_num_t):\n",
    "                    feed_dict_train = {images: image[batch*batch_size:(batch+1)*batch_size], labels: label[batch*batch_size:(batch+1)*batch_size]}\n",
    "                    \n",
    "                    loss, train_acc, _ = sess.run([vgg.cost, vgg.accuracy, vgg.train], feed_dict=feed_dict_train)\n",
    "                    \n",
    "                    img_count += batch_size\n",
    "                    \n",
    "                    \n",
    "                    loss_sum +=  loss\n",
    "                    acc_sum_t += train_acc\n",
    "                \n",
    "                for batch in range(batch_num_e):\n",
    "                    feed_dict_eval = {images: eval_image[batch*batch_size:(batch+1)*batch_size], labels: eval_label[batch*batch_size:(batch+1)*batch_size]}\n",
    "                    eval_acc= sess.run(vgg.accuracy, feed_dict=feed_dict_eval)\n",
    "\n",
    "                    acc_sum_e += eval_acc\n",
    "                \n",
    "                loss_[epoch] = np.sum(loss_sum)/batch_num_t\n",
    "                acc_t = np.sum(acc_sum_t)/batch_num_t\n",
    "                acc_e = np.sum(acc_sum_e)/batch_num_e\n",
    "                global_step = image_num*(epoch+1)\n",
    "                \n",
    "                print('[',datetime.now(),\"%2d\" %(epoch+1),\"epoch] loss : %7.4f\" % loss_[epoch], \"train accuracy : %.6f\" % acc_t, \"validation accuracy : %.6f\" % acc_e)\n",
    "                \n",
    "                if epoch % 10 == 0:\n",
    "                    saver.save(sess,os.path.join(ckpt_loc,\"TL-model\"),global_step = global_step) #write_meta_graph=False meta 원하지 않음\n",
    "                    if acc_t == 1.0:\n",
    "                        break\n",
    "            print(datetime.now(),' Running finished!')\n",
    "            print('-img.close')\n",
    "            filter_img.close()"
   ]
  },
  {
   "cell_type": "code",
   "execution_count": 21,
   "metadata": {},
   "outputs": [
    {
     "name": "stdout",
     "output_type": "stream",
     "text": [
      "0.0\n",
      "0.0\n"
     ]
    },
    {
     "data": {
      "image/png": "[encoded data removed]",
      "text/plain": [
       "<Figure size 432x288 with 1 Axes>"
      ]
     },
     "metadata": {},
     "output_type": "display_data"
    }
   ],
   "source": [
    "print(loss_[0])\n",
    "print(loss_[1])\n",
    "x = loss_[0:3]\n",
    "plt.plot(x)\n",
    "plt.title(\"Training Loss\")\n",
    "plt.show()"
   ]
  },
  {
   "cell_type": "code",
   "execution_count": null,
   "metadata": {},
   "outputs": [],
   "source": []
  }
 ],
 "metadata": {
  "kernelspec": {
   "display_name": "Python 3",
   "language": "python",
   "name": "python3"
  },
  "language_info": {
   "codemirror_mode": {
    "name": "ipython",
    "version": 3
   },
   "file_extension": ".py",
   "mimetype": "text/x-python",
   "name": "python",
   "nbconvert_exporter": "python",
   "pygments_lexer": "ipython3",
   "version": "3.6.5"
  }
 },
 "nbformat": 4,
 "nbformat_minor": 2
}
